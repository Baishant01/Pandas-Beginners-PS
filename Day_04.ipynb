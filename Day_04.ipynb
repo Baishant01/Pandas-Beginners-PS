{
 "cells": [
  {
   "cell_type": "code",
   "execution_count": 6,
   "id": "20329c2b-f026-4d12-9ece-ed0f0c89841c",
   "metadata": {},
   "outputs": [],
   "source": [
    "import pandas as pd\n",
    "import numpy as np"
   ]
  },
  {
   "cell_type": "markdown",
   "id": "2e8337fc-7188-47ea-9593-431b70f9c9eb",
   "metadata": {},
   "source": [
    "## pd.concat():"
   ]
  },
  {
   "cell_type": "code",
   "execution_count": 9,
   "id": "dcd8018f-bbe1-4c84-a00d-d0ea443dbd39",
   "metadata": {},
   "outputs": [],
   "source": [
    "data = [\n",
    "    {'student_id': 'S1', 'name': 'Danniella Fenton', 'marks': 200},\n",
    "    {'student_id': 'S2', 'name': 'Ryder Storey', 'marks': 210},\n",
    "    {'student_id': 'S3', 'name': 'Bryce Jensen', 'marks': 190},\n",
    "    {'student_id': 'S4', 'name': 'Ed Bernal', 'marks': 222},\n",
    "    {'student_id': 'S5', 'name': 'Kwame Morin', 'marks': 199}\n",
    "]\n",
    "\n",
    "df1 = pd.DataFrame(data)\n",
    "\n",
    "student_data2 = pd.DataFrame([\n",
    "    {'student_id': 'S4', 'name': 'Scarlette Fisher', 'marks': 201},\n",
    "    {'student_id': 'S5', 'name': 'Carla Williamson', 'marks': 200},\n",
    "    {'student_id': 'S6', 'name': 'Dante Morse', 'marks': 198},\n",
    "    {'student_id': 'S7', 'name': 'Kaiser William', 'marks': 219},\n",
    "    {'student_id': 'S8', 'name': 'Madeeha Preston', 'marks': 201}\n",
    "])\n",
    "\n",
    "df2= pd.DataFrame(student_data2)"
   ]
  },
  {
   "cell_type": "code",
   "execution_count": 11,
   "id": "7c8cb500-3514-4ca1-b416-938052c09e5e",
   "metadata": {},
   "outputs": [
    {
     "data": {
      "text/html": [
       "<div>\n",
       "<style scoped>\n",
       "    .dataframe tbody tr th:only-of-type {\n",
       "        vertical-align: middle;\n",
       "    }\n",
       "\n",
       "    .dataframe tbody tr th {\n",
       "        vertical-align: top;\n",
       "    }\n",
       "\n",
       "    .dataframe thead th {\n",
       "        text-align: right;\n",
       "    }\n",
       "</style>\n",
       "<table border=\"1\" class=\"dataframe\">\n",
       "  <thead>\n",
       "    <tr style=\"text-align: right;\">\n",
       "      <th></th>\n",
       "      <th>student_id</th>\n",
       "      <th>name</th>\n",
       "      <th>marks</th>\n",
       "    </tr>\n",
       "  </thead>\n",
       "  <tbody>\n",
       "    <tr>\n",
       "      <th>0</th>\n",
       "      <td>S1</td>\n",
       "      <td>Danniella Fenton</td>\n",
       "      <td>200</td>\n",
       "    </tr>\n",
       "    <tr>\n",
       "      <th>1</th>\n",
       "      <td>S2</td>\n",
       "      <td>Ryder Storey</td>\n",
       "      <td>210</td>\n",
       "    </tr>\n",
       "    <tr>\n",
       "      <th>2</th>\n",
       "      <td>S3</td>\n",
       "      <td>Bryce Jensen</td>\n",
       "      <td>190</td>\n",
       "    </tr>\n",
       "    <tr>\n",
       "      <th>3</th>\n",
       "      <td>S4</td>\n",
       "      <td>Ed Bernal</td>\n",
       "      <td>222</td>\n",
       "    </tr>\n",
       "    <tr>\n",
       "      <th>4</th>\n",
       "      <td>S5</td>\n",
       "      <td>Kwame Morin</td>\n",
       "      <td>199</td>\n",
       "    </tr>\n",
       "    <tr>\n",
       "      <th>5</th>\n",
       "      <td>S4</td>\n",
       "      <td>Scarlette Fisher</td>\n",
       "      <td>201</td>\n",
       "    </tr>\n",
       "    <tr>\n",
       "      <th>6</th>\n",
       "      <td>S5</td>\n",
       "      <td>Carla Williamson</td>\n",
       "      <td>200</td>\n",
       "    </tr>\n",
       "    <tr>\n",
       "      <th>7</th>\n",
       "      <td>S6</td>\n",
       "      <td>Dante Morse</td>\n",
       "      <td>198</td>\n",
       "    </tr>\n",
       "    <tr>\n",
       "      <th>8</th>\n",
       "      <td>S7</td>\n",
       "      <td>Kaiser William</td>\n",
       "      <td>219</td>\n",
       "    </tr>\n",
       "    <tr>\n",
       "      <th>9</th>\n",
       "      <td>S8</td>\n",
       "      <td>Madeeha Preston</td>\n",
       "      <td>201</td>\n",
       "    </tr>\n",
       "  </tbody>\n",
       "</table>\n",
       "</div>"
      ],
      "text/plain": [
       "  student_id              name  marks\n",
       "0         S1  Danniella Fenton    200\n",
       "1         S2      Ryder Storey    210\n",
       "2         S3      Bryce Jensen    190\n",
       "3         S4         Ed Bernal    222\n",
       "4         S5       Kwame Morin    199\n",
       "5         S4  Scarlette Fisher    201\n",
       "6         S5  Carla Williamson    200\n",
       "7         S6       Dante Morse    198\n",
       "8         S7    Kaiser William    219\n",
       "9         S8   Madeeha Preston    201"
      ]
     },
     "execution_count": 11,
     "metadata": {},
     "output_type": "execute_result"
    }
   ],
   "source": [
    "pd.concat([df1, df2], ignore_index=True)"
   ]
  },
  {
   "cell_type": "markdown",
   "id": "45bad632-b195-47df-a3c9-514246d24808",
   "metadata": {},
   "source": [
    "## df.combine_first():"
   ]
  },
  {
   "cell_type": "code",
   "execution_count": 16,
   "id": "1d0d33bb-fdb1-459c-9c48-bcdb4cadddbc",
   "metadata": {},
   "outputs": [
    {
     "data": {
      "text/html": [
       "<div>\n",
       "<style scoped>\n",
       "    .dataframe tbody tr th:only-of-type {\n",
       "        vertical-align: middle;\n",
       "    }\n",
       "\n",
       "    .dataframe tbody tr th {\n",
       "        vertical-align: top;\n",
       "    }\n",
       "\n",
       "    .dataframe thead th {\n",
       "        text-align: right;\n",
       "    }\n",
       "</style>\n",
       "<table border=\"1\" class=\"dataframe\">\n",
       "  <thead>\n",
       "    <tr style=\"text-align: right;\">\n",
       "      <th></th>\n",
       "      <th>date</th>\n",
       "      <th>patient_id</th>\n",
       "      <th>cholesterol</th>\n",
       "      <th>hdl</th>\n",
       "    </tr>\n",
       "  </thead>\n",
       "  <tbody>\n",
       "    <tr>\n",
       "      <th>0</th>\n",
       "      <td>2025-08-01</td>\n",
       "      <td>A</td>\n",
       "      <td>180.0</td>\n",
       "      <td>55.0</td>\n",
       "    </tr>\n",
       "    <tr>\n",
       "      <th>1</th>\n",
       "      <td>2025-08-02</td>\n",
       "      <td>B</td>\n",
       "      <td>200.0</td>\n",
       "      <td>60.0</td>\n",
       "    </tr>\n",
       "    <tr>\n",
       "      <th>2</th>\n",
       "      <td>2025-08-03</td>\n",
       "      <td>C</td>\n",
       "      <td>210.0</td>\n",
       "      <td>65.0</td>\n",
       "    </tr>\n",
       "    <tr>\n",
       "      <th>3</th>\n",
       "      <td>2025-08-04</td>\n",
       "      <td>D</td>\n",
       "      <td>195.0</td>\n",
       "      <td>50.0</td>\n",
       "    </tr>\n",
       "    <tr>\n",
       "      <th>4</th>\n",
       "      <td>2025-08-05</td>\n",
       "      <td>E</td>\n",
       "      <td>190.0</td>\n",
       "      <td>52.0</td>\n",
       "    </tr>\n",
       "  </tbody>\n",
       "</table>\n",
       "</div>"
      ],
      "text/plain": [
       "        date patient_id  cholesterol   hdl\n",
       "0 2025-08-01          A        180.0  55.0\n",
       "1 2025-08-02          B        200.0  60.0\n",
       "2 2025-08-03          C        210.0  65.0\n",
       "3 2025-08-04          D        195.0  50.0\n",
       "4 2025-08-05          E        190.0  52.0"
      ]
     },
     "execution_count": 16,
     "metadata": {},
     "output_type": "execute_result"
    }
   ],
   "source": [
    "# DataFrame with some null values\n",
    "df_nulls = pd.DataFrame({\n",
    "    'date': pd.date_range('2025-08-01', periods=5, freq='D'),\n",
    "    'patient_id': ['A', 'B', 'C', 'D', 'E'],\n",
    "    'cholesterol': [180, np.nan, 210, np.nan, 190],\n",
    "    'hdl': [55, 60, np.nan, 50, np.nan]\n",
    "})\n",
    "\n",
    "# Fully populated DataFrame\n",
    "df_full = pd.DataFrame({\n",
    "    'date': pd.date_range('2025-08-01', periods=5, freq='D'),\n",
    "    'patient_id': ['A', 'B', 'C', 'D', 'E'],\n",
    "    'cholesterol': [180, 200, 210, 195, 190],\n",
    "    'hdl': [55, 60, 65, 50, 52]\n",
    "})\n",
    "\n",
    "df_nulls.combine_first(df_full)"
   ]
  },
  {
   "cell_type": "markdown",
   "id": "30e13643-d47b-4da2-bde3-cc3e500a4191",
   "metadata": {},
   "source": [
    "## pd.merge():"
   ]
  },
  {
   "cell_type": "code",
   "execution_count": 25,
   "id": "50491d0f-d459-4b66-af2c-7754070d9a1c",
   "metadata": {},
   "outputs": [
    {
     "name": "stdout",
     "output_type": "stream",
     "text": [
      "<class 'pandas.core.frame.DataFrame'>\n",
      "RangeIndex: 6 entries, 0 to 5\n",
      "Data columns (total 2 columns):\n",
      " #   Column        Non-Null Count  Dtype \n",
      "---  ------        --------------  ----- \n",
      " 0   patient_name  6 non-null      object\n",
      " 1   body_part     6 non-null      object\n",
      "dtypes: object(2)\n",
      "memory usage: 228.0+ bytes\n"
     ]
    }
   ],
   "source": [
    "df_checkup_plan.info()"
   ]
  },
  {
   "cell_type": "code",
   "execution_count": 29,
   "id": "bfeacd2f-8ae7-424f-9321-84cfc80ae400",
   "metadata": {},
   "outputs": [
    {
     "data": {
      "text/html": [
       "<div>\n",
       "<style scoped>\n",
       "    .dataframe tbody tr th:only-of-type {\n",
       "        vertical-align: middle;\n",
       "    }\n",
       "\n",
       "    .dataframe tbody tr th {\n",
       "        vertical-align: top;\n",
       "    }\n",
       "\n",
       "    .dataframe thead th {\n",
       "        text-align: right;\n",
       "    }\n",
       "</style>\n",
       "<table border=\"1\" class=\"dataframe\">\n",
       "  <thead>\n",
       "    <tr style=\"text-align: right;\">\n",
       "      <th></th>\n",
       "      <th>patient_name</th>\n",
       "      <th>body_part</th>\n",
       "      <th>checkup_day</th>\n",
       "    </tr>\n",
       "  </thead>\n",
       "  <tbody>\n",
       "    <tr>\n",
       "      <th>0</th>\n",
       "      <td>David</td>\n",
       "      <td>Throat</td>\n",
       "      <td>Tuesday</td>\n",
       "    </tr>\n",
       "    <tr>\n",
       "      <th>1</th>\n",
       "      <td>Emily</td>\n",
       "      <td>Ear</td>\n",
       "      <td>Wednesday</td>\n",
       "    </tr>\n",
       "    <tr>\n",
       "      <th>2</th>\n",
       "      <td>Emily</td>\n",
       "      <td>Eye</td>\n",
       "      <td>Saturday</td>\n",
       "    </tr>\n",
       "    <tr>\n",
       "      <th>3</th>\n",
       "      <td>John</td>\n",
       "      <td>Ear</td>\n",
       "      <td>Thursday</td>\n",
       "    </tr>\n",
       "    <tr>\n",
       "      <th>4</th>\n",
       "      <td>John</td>\n",
       "      <td>Nose</td>\n",
       "      <td>Monday</td>\n",
       "    </tr>\n",
       "    <tr>\n",
       "      <th>5</th>\n",
       "      <td>Sophia</td>\n",
       "      <td>Eye</td>\n",
       "      <td>Friday</td>\n",
       "    </tr>\n",
       "  </tbody>\n",
       "</table>\n",
       "</div>"
      ],
      "text/plain": [
       "  patient_name body_part checkup_day\n",
       "0        David    Throat     Tuesday\n",
       "1        Emily       Ear   Wednesday\n",
       "2        Emily       Eye    Saturday\n",
       "3         John       Ear    Thursday\n",
       "4         John      Nose      Monday\n",
       "5       Sophia       Eye      Friday"
      ]
     },
     "execution_count": 29,
     "metadata": {},
     "output_type": "execute_result"
    }
   ],
   "source": [
    "# Patient checkup plan: body parts to examine\n",
    "df_checkup_plan = pd.DataFrame({\n",
    "    'patient_name': ['John', 'Emily', 'David', 'Sophia', 'John', 'Emily'],\n",
    "    'body_part': ['Nose', 'Ear', 'Throat', 'Eye', 'Ear', 'Eye']\n",
    "})\n",
    "\n",
    "# Checkup schedule: when each body part is examined\n",
    "df_schedule = pd.DataFrame({\n",
    "    'patient_name': ['John', 'Emily', 'David', 'Sophia', 'John', 'Emily'],\n",
    "    'body_part': ['Nose', 'Ear', 'Throat', 'Eye', 'Ear', 'Eye'],\n",
    "    'checkup_day': ['Monday', 'Wednesday', 'Tuesday', 'Friday', 'Thursday', 'Saturday']\n",
    "})\n",
    "\n",
    "pd.merge(\n",
    "    df_checkup_plan,\n",
    "    df_schedule,\n",
    "    on=['patient_name', 'body_part'],\n",
    "    how='outer'\n",
    ")\n"
   ]
  },
  {
   "cell_type": "markdown",
   "id": "8e0033af-6e36-4554-af56-7d80a4f4d19c",
   "metadata": {},
   "source": [
    "## pd.join():"
   ]
  },
  {
   "cell_type": "code",
   "execution_count": 32,
   "id": "a20193c6-a778-456d-ab34-31de286b8499",
   "metadata": {},
   "outputs": [
    {
     "data": {
      "text/plain": [
       "(   EmployeeID            Name        Department      Branch JoiningDate  \\\n",
       " 0         101  Aarav Shrestha          Accounts   Kathmandu  2020-01-15   \n",
       " 1         102      Bina Karki             Loans     Pokhara  2019-07-01   \n",
       " 2         103    Chirag Thapa  Customer Service  Biratnagar  2021-03-20   \n",
       " 3         104    Deepa Gurung                IT   Kathmandu  2022-11-05   \n",
       " 4         105       Elina Rai          Accounts    Lalitpur  2020-06-10   \n",
       " \n",
       "    Salary PerformanceRating  \n",
       " 0   65000                 A  \n",
       " 1   72000                 B  \n",
       " 2   58000                 A  \n",
       " 3   75000                 C  \n",
       " 4   67000                 B  ,\n",
       "            TrainingCompleted LastTrainingDate         Trainer\n",
       " EmployeeID                                                   \n",
       " 101                      Yes       2023-06-15     Sujan Bista\n",
       " 102                       No       2022-12-01    Nisha Khadka\n",
       " 104                      Yes       2023-03-10   Ramesh Poudel\n",
       " 106                      Yes       2023-07-20  Anita Shrestha\n",
       " 107                       No       2022-11-25     Kiran Thapa)"
      ]
     },
     "execution_count": 32,
     "metadata": {},
     "output_type": "execute_result"
    }
   ],
   "source": [
    "bank_office_df = pd.DataFrame({\n",
    "    'EmployeeID': [101, 102, 103, 104, 105],\n",
    "    'Name': ['Aarav Shrestha', 'Bina Karki', 'Chirag Thapa', 'Deepa Gurung', 'Elina Rai'],\n",
    "    'Department': ['Accounts', 'Loans', 'Customer Service', 'IT', 'Accounts'],\n",
    "    'Branch': ['Kathmandu', 'Pokhara', 'Biratnagar', 'Kathmandu', 'Lalitpur'],\n",
    "    'JoiningDate': pd.to_datetime(['2020-01-15', '2019-07-01', '2021-03-20', '2022-11-05', '2020-06-10']),\n",
    "    'Salary': [65000, 72000, 58000, 75000, 67000],\n",
    "    'PerformanceRating': ['A', 'B', 'A', 'C', 'B']\n",
    "})\n",
    "df_training = pd.DataFrame({\n",
    "    'EmployeeID': [101, 102, 104, 106, 107],\n",
    "    'TrainingCompleted': ['Yes', 'No', 'Yes', 'Yes', 'No'],\n",
    "    'LastTrainingDate': pd.to_datetime(['2023-06-15', '2022-12-01', '2023-03-10', '2023-07-20', '2022-11-25']),\n",
    "    'Trainer': ['Sujan Bista', 'Nisha Khadka', 'Ramesh Poudel', 'Anita Shrestha', 'Kiran Thapa']\n",
    "}).set_index('EmployeeID')\n",
    "\n",
    "bank_office_df, df_training"
   ]
  },
  {
   "cell_type": "code",
   "execution_count": 40,
   "id": "709266f5-9a82-4776-9d43-7c58ffc86999",
   "metadata": {},
   "outputs": [
    {
     "data": {
      "text/plain": [
       "Index([101, 102, 104, 106, 107], dtype='int64', name='EmployeeID')"
      ]
     },
     "execution_count": 40,
     "metadata": {},
     "output_type": "execute_result"
    }
   ],
   "source": [
    "df = bank_office_df.set_index(['EmployeeID'])\n",
    "df_training.index"
   ]
  },
  {
   "cell_type": "code",
   "execution_count": 58,
   "id": "eb37905c-5ca4-4af6-964e-8fffd02fdcc2",
   "metadata": {},
   "outputs": [
    {
     "data": {
      "text/html": [
       "<div>\n",
       "<style scoped>\n",
       "    .dataframe tbody tr th:only-of-type {\n",
       "        vertical-align: middle;\n",
       "    }\n",
       "\n",
       "    .dataframe tbody tr th {\n",
       "        vertical-align: top;\n",
       "    }\n",
       "\n",
       "    .dataframe thead th {\n",
       "        text-align: right;\n",
       "    }\n",
       "</style>\n",
       "<table border=\"1\" class=\"dataframe\">\n",
       "  <thead>\n",
       "    <tr style=\"text-align: right;\">\n",
       "      <th></th>\n",
       "      <th>Name</th>\n",
       "      <th>Department</th>\n",
       "      <th>Branch</th>\n",
       "      <th>JoiningDate</th>\n",
       "      <th>Salary</th>\n",
       "      <th>PerformanceRating</th>\n",
       "      <th>TrainingCompleted</th>\n",
       "      <th>LastTrainingDate</th>\n",
       "      <th>Trainer</th>\n",
       "    </tr>\n",
       "    <tr>\n",
       "      <th>EmployeeID</th>\n",
       "      <th></th>\n",
       "      <th></th>\n",
       "      <th></th>\n",
       "      <th></th>\n",
       "      <th></th>\n",
       "      <th></th>\n",
       "      <th></th>\n",
       "      <th></th>\n",
       "      <th></th>\n",
       "    </tr>\n",
       "  </thead>\n",
       "  <tbody>\n",
       "    <tr>\n",
       "      <th>101</th>\n",
       "      <td>Aarav Shrestha</td>\n",
       "      <td>Accounts</td>\n",
       "      <td>Kathmandu</td>\n",
       "      <td>2020-01-15</td>\n",
       "      <td>65000</td>\n",
       "      <td>A</td>\n",
       "      <td>Yes</td>\n",
       "      <td>2023-06-15</td>\n",
       "      <td>Sujan Bista</td>\n",
       "    </tr>\n",
       "    <tr>\n",
       "      <th>102</th>\n",
       "      <td>Bina Karki</td>\n",
       "      <td>Loans</td>\n",
       "      <td>Pokhara</td>\n",
       "      <td>2019-07-01</td>\n",
       "      <td>72000</td>\n",
       "      <td>B</td>\n",
       "      <td>No</td>\n",
       "      <td>2022-12-01</td>\n",
       "      <td>Nisha Khadka</td>\n",
       "    </tr>\n",
       "    <tr>\n",
       "      <th>103</th>\n",
       "      <td>Chirag Thapa</td>\n",
       "      <td>Customer Service</td>\n",
       "      <td>Biratnagar</td>\n",
       "      <td>2021-03-20</td>\n",
       "      <td>58000</td>\n",
       "      <td>A</td>\n",
       "      <td>NaN</td>\n",
       "      <td>NaT</td>\n",
       "      <td>NaN</td>\n",
       "    </tr>\n",
       "    <tr>\n",
       "      <th>104</th>\n",
       "      <td>Deepa Gurung</td>\n",
       "      <td>IT</td>\n",
       "      <td>Kathmandu</td>\n",
       "      <td>2022-11-05</td>\n",
       "      <td>75000</td>\n",
       "      <td>C</td>\n",
       "      <td>Yes</td>\n",
       "      <td>2023-03-10</td>\n",
       "      <td>Ramesh Poudel</td>\n",
       "    </tr>\n",
       "    <tr>\n",
       "      <th>105</th>\n",
       "      <td>Elina Rai</td>\n",
       "      <td>Accounts</td>\n",
       "      <td>Lalitpur</td>\n",
       "      <td>2020-06-10</td>\n",
       "      <td>67000</td>\n",
       "      <td>B</td>\n",
       "      <td>NaN</td>\n",
       "      <td>NaT</td>\n",
       "      <td>NaN</td>\n",
       "    </tr>\n",
       "  </tbody>\n",
       "</table>\n",
       "</div>"
      ],
      "text/plain": [
       "                      Name        Department      Branch JoiningDate  Salary  \\\n",
       "EmployeeID                                                                     \n",
       "101         Aarav Shrestha          Accounts   Kathmandu  2020-01-15   65000   \n",
       "102             Bina Karki             Loans     Pokhara  2019-07-01   72000   \n",
       "103           Chirag Thapa  Customer Service  Biratnagar  2021-03-20   58000   \n",
       "104           Deepa Gurung                IT   Kathmandu  2022-11-05   75000   \n",
       "105              Elina Rai          Accounts    Lalitpur  2020-06-10   67000   \n",
       "\n",
       "           PerformanceRating TrainingCompleted LastTrainingDate        Trainer  \n",
       "EmployeeID                                                                      \n",
       "101                        A               Yes       2023-06-15    Sujan Bista  \n",
       "102                        B                No       2022-12-01   Nisha Khadka  \n",
       "103                        A               NaN              NaT            NaN  \n",
       "104                        C               Yes       2023-03-10  Ramesh Poudel  \n",
       "105                        B               NaN              NaT            NaN  "
      ]
     },
     "execution_count": 58,
     "metadata": {},
     "output_type": "execute_result"
    }
   ],
   "source": [
    "df.join(df_training, on='EmployeeID')"
   ]
  },
  {
   "cell_type": "markdown",
   "id": "b2b68949-2ece-4172-abf5-c09dd36c39de",
   "metadata": {},
   "source": [
    "## pd.merge_ordered():"
   ]
  },
  {
   "cell_type": "code",
   "execution_count": 59,
   "id": "3c4e2fc7-abb5-4a31-bf74-6dab57463441",
   "metadata": {},
   "outputs": [
    {
     "data": {
      "text/plain": [
       "(  patient_name body_part\n",
       " 0         John      Nose\n",
       " 1        Emily       Ear\n",
       " 2        David    Throat\n",
       " 3       Sophia       Eye\n",
       " 4         John       Ear\n",
       " 5        Emily       Eye,\n",
       "   patient_name body_part checkup_day\n",
       " 0         John      Nose      Monday\n",
       " 1        Emily       Ear   Wednesday\n",
       " 2        David    Throat     Tuesday\n",
       " 3       Sophia       Eye      Friday\n",
       " 4         John       Ear    Thursday\n",
       " 5        Emily       Eye    Saturday)"
      ]
     },
     "execution_count": 59,
     "metadata": {},
     "output_type": "execute_result"
    }
   ],
   "source": [
    "df_checkup_plan,df_schedule"
   ]
  },
  {
   "cell_type": "code",
   "execution_count": 69,
   "id": "374cad34-7580-46f4-aba1-704061886308",
   "metadata": {},
   "outputs": [
    {
     "data": {
      "text/html": [
       "<div>\n",
       "<style scoped>\n",
       "    .dataframe tbody tr th:only-of-type {\n",
       "        vertical-align: middle;\n",
       "    }\n",
       "\n",
       "    .dataframe tbody tr th {\n",
       "        vertical-align: top;\n",
       "    }\n",
       "\n",
       "    .dataframe thead th {\n",
       "        text-align: right;\n",
       "    }\n",
       "</style>\n",
       "<table border=\"1\" class=\"dataframe\">\n",
       "  <thead>\n",
       "    <tr style=\"text-align: right;\">\n",
       "      <th></th>\n",
       "      <th>patient_name</th>\n",
       "      <th>body_part</th>\n",
       "      <th>checkup_day</th>\n",
       "    </tr>\n",
       "  </thead>\n",
       "  <tbody>\n",
       "    <tr>\n",
       "      <th>0</th>\n",
       "      <td>David</td>\n",
       "      <td>Throat</td>\n",
       "      <td>Tuesday</td>\n",
       "    </tr>\n",
       "    <tr>\n",
       "      <th>1</th>\n",
       "      <td>Emily</td>\n",
       "      <td>Ear</td>\n",
       "      <td>Wednesday</td>\n",
       "    </tr>\n",
       "    <tr>\n",
       "      <th>2</th>\n",
       "      <td>Emily</td>\n",
       "      <td>Eye</td>\n",
       "      <td>Saturday</td>\n",
       "    </tr>\n",
       "    <tr>\n",
       "      <th>3</th>\n",
       "      <td>John</td>\n",
       "      <td>Ear</td>\n",
       "      <td>Thursday</td>\n",
       "    </tr>\n",
       "    <tr>\n",
       "      <th>4</th>\n",
       "      <td>John</td>\n",
       "      <td>Nose</td>\n",
       "      <td>Monday</td>\n",
       "    </tr>\n",
       "    <tr>\n",
       "      <th>5</th>\n",
       "      <td>Sophia</td>\n",
       "      <td>Eye</td>\n",
       "      <td>Friday</td>\n",
       "    </tr>\n",
       "  </tbody>\n",
       "</table>\n",
       "</div>"
      ],
      "text/plain": [
       "  patient_name body_part checkup_day\n",
       "0        David    Throat     Tuesday\n",
       "1        Emily       Ear   Wednesday\n",
       "2        Emily       Eye    Saturday\n",
       "3         John       Ear    Thursday\n",
       "4         John      Nose      Monday\n",
       "5       Sophia       Eye      Friday"
      ]
     },
     "execution_count": 69,
     "metadata": {},
     "output_type": "execute_result"
    }
   ],
   "source": [
    "pd.merge_ordered(df_checkup_plan,df_schedule, on=['patient_name', 'body_part'])"
   ]
  },
  {
   "cell_type": "markdown",
   "id": "415c2e9e-242e-47cc-986d-eafff6cbc672",
   "metadata": {},
   "source": [
    "## pd.merge_asof():"
   ]
  },
  {
   "cell_type": "markdown",
   "id": "bf892ebe-aca3-47f4-bb42-a5b9881ee48d",
   "metadata": {},
   "source": [
    "## pd.compare():"
   ]
  },
  {
   "cell_type": "code",
   "execution_count": 75,
   "id": "97039d71-d041-4dc5-abed-06ef0a6dc7f1",
   "metadata": {},
   "outputs": [],
   "source": [
    "df6 = df_checkup_plan[['patient_name', 'body_part']]\n",
    "df7 = df_schedule[['patient_name', 'body_part']]"
   ]
  },
  {
   "cell_type": "code",
   "execution_count": 76,
   "id": "054e0246-4864-4d28-9a0a-2185f18fdee9",
   "metadata": {},
   "outputs": [
    {
     "data": {
      "text/html": [
       "<div>\n",
       "<style scoped>\n",
       "    .dataframe tbody tr th:only-of-type {\n",
       "        vertical-align: middle;\n",
       "    }\n",
       "\n",
       "    .dataframe tbody tr th {\n",
       "        vertical-align: top;\n",
       "    }\n",
       "\n",
       "    .dataframe thead tr th {\n",
       "        text-align: left;\n",
       "    }\n",
       "</style>\n",
       "<table border=\"1\" class=\"dataframe\">\n",
       "  <thead>\n",
       "  </thead>\n",
       "  <tbody>\n",
       "  </tbody>\n",
       "</table>\n",
       "</div>"
      ],
      "text/plain": [
       "Empty DataFrame\n",
       "Columns: []\n",
       "Index: []"
      ]
     },
     "execution_count": 76,
     "metadata": {},
     "output_type": "execute_result"
    }
   ],
   "source": [
    "df6.compare(df7)"
   ]
  },
  {
   "cell_type": "code",
   "execution_count": 84,
   "id": "5b503ee4-5aba-43fb-b9a6-02c13be272bc",
   "metadata": {},
   "outputs": [
    {
     "data": {
      "text/html": [
       "<div>\n",
       "<style scoped>\n",
       "    .dataframe tbody tr th:only-of-type {\n",
       "        vertical-align: middle;\n",
       "    }\n",
       "\n",
       "    .dataframe tbody tr th {\n",
       "        vertical-align: top;\n",
       "    }\n",
       "\n",
       "    .dataframe thead tr th {\n",
       "        text-align: left;\n",
       "    }\n",
       "</style>\n",
       "<table border=\"1\" class=\"dataframe\">\n",
       "  <thead>\n",
       "    <tr>\n",
       "      <th></th>\n",
       "      <th colspan=\"2\" halign=\"left\">A</th>\n",
       "      <th colspan=\"2\" halign=\"left\">B</th>\n",
       "    </tr>\n",
       "    <tr>\n",
       "      <th></th>\n",
       "      <th>A</th>\n",
       "      <th>B</th>\n",
       "      <th>A</th>\n",
       "      <th>B</th>\n",
       "    </tr>\n",
       "  </thead>\n",
       "  <tbody>\n",
       "    <tr>\n",
       "      <th>y</th>\n",
       "      <td>NaN</td>\n",
       "      <td>NaN</td>\n",
       "      <td>5.0</td>\n",
       "      <td>6.0</td>\n",
       "    </tr>\n",
       "    <tr>\n",
       "      <th>z</th>\n",
       "      <td>3.0</td>\n",
       "      <td>4.0</td>\n",
       "      <td>NaN</td>\n",
       "      <td>NaN</td>\n",
       "    </tr>\n",
       "  </tbody>\n",
       "</table>\n",
       "</div>"
      ],
      "text/plain": [
       "     A         B     \n",
       "     A    B    A    B\n",
       "y  NaN  NaN  5.0  6.0\n",
       "z  3.0  4.0  NaN  NaN"
      ]
     },
     "execution_count": 84,
     "metadata": {},
     "output_type": "execute_result"
    }
   ],
   "source": [
    "df1 = pd.DataFrame({'A': [1, 2, 3], 'B': [4, 5, 6]}, index=['x', 'y', 'z'])\n",
    "df2 = pd.DataFrame({'A': [1, 2, 4], 'B': [4, 6, 6]}, index=['x', 'y', 'z'])\n",
    "\n",
    "df1.compare(df2, result_names=('A', 'B'))"
   ]
  }
 ],
 "metadata": {
  "kernelspec": {
   "display_name": "Python [conda env:ML]",
   "language": "python",
   "name": "conda-env-ML-py"
  },
  "language_info": {
   "codemirror_mode": {
    "name": "ipython",
    "version": 3
   },
   "file_extension": ".py",
   "mimetype": "text/x-python",
   "name": "python",
   "nbconvert_exporter": "python",
   "pygments_lexer": "ipython3",
   "version": "3.13.5"
  }
 },
 "nbformat": 4,
 "nbformat_minor": 5
}
